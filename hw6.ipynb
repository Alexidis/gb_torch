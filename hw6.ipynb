{
 "nbformat": 4,
 "nbformat_minor": 0,
 "metadata": {
  "colab": {
   "provenance": [],
   "mount_file_id": "1HEdkcbZ9qQJPwxdwBvBU-QaJmS_9vck4",
   "authorship_tag": "ABX9TyNyogJRAHGxHfL5CzbcgB8m"
  },
  "kernelspec": {
   "name": "python3",
   "display_name": "Python 3"
  },
  "language_info": {
   "name": "python"
  },
  "accelerator": "GPU",
  "gpuClass": "standard"
 },
 "cells": [
  {
   "cell_type": "code",
   "execution_count": 1,
   "metadata": {
    "id": "0DJvpHrxWPDj",
    "executionInfo": {
     "status": "ok",
     "timestamp": 1662044688323,
     "user_tz": -180,
     "elapsed": 13,
     "user": {
      "displayName": "Алексей Кеменчичиди",
      "userId": "05473161446344228739"
     }
    },
    "colab": {
     "base_uri": "https://localhost:8080/"
    },
    "outputId": "438e3d3f-32f8-46a8-a6a7-1b9a609dcec0",
    "pycharm": {
     "name": "#%%\n"
    }
   },
   "outputs": [
    {
     "name": "stdout",
     "output_type": "stream",
     "text": [
      "INFO: Pandarallel will run on 8 workers.\n",
      "INFO: Pandarallel will use standard multiprocessing data transfer (pipe) to transfer data between the main process and workers.\n",
      "\n",
      "WARNING: You are on Windows. If you detect any issue with pandarallel, be sure you checked out the Troubleshooting page:\n",
      "https://nalepae.github.io/pandarallel/troubleshooting/\n",
      "cpu\n"
     ]
    }
   ],
   "source": [
    "import numpy as np\n",
    "import pandas as pd\n",
    "from pathlib import Path\n",
    "\n",
    "import torch\n",
    "import torch.nn as nn\n",
    "import torch.nn.functional as F\n",
    "from torch.utils.data import DataLoader, Dataset\n",
    "\n",
    "from sklearn.model_selection import train_test_split\n",
    "\n",
    "from tqdm import tqdm\n",
    "import nltk\n",
    "from nltk.probability import FreqDist\n",
    "from nltk.tokenize import word_tokenize\n",
    "\n",
    "import matplotlib.pyplot as plt\n",
    "\n",
    "from pandarallel import pandarallel\n",
    "pandarallel.initialize(progress_bar=True)\n",
    "\n",
    "device = torch.device('cuda' if torch.cuda.is_available() else 'cpu')\n",
    "print(device)"
   ]
  },
  {
   "cell_type": "code",
   "execution_count": null,
   "outputs": [],
   "source": [
    "def preprocess_text(txt):\n",
    "    # Почему-то при параллельном запуске переменные из вне не видны\n",
    "    import re\n",
    "    from string import punctuation\n",
    "    from stop_words import get_stop_words\n",
    "    sw = set(get_stop_words(\"en\"))\n",
    "    puncts= set(punctuation)\n",
    "\n",
    "    from pymorphy2 import MorphAnalyzer\n",
    "    morpher = MorphAnalyzer()\n",
    "\n",
    "    txt = str(txt)\n",
    "    txt = \"\".join(c for c in txt if c not in puncts)\n",
    "    txt = txt.lower()\n",
    "    txt = re.sub(\"не\\s\", \"не\", txt)\n",
    "    txt = [morpher.parse(word)[0].normal_form for word in txt.split() if word not in sw]\n",
    "    return \" \".join(txt)"
   ],
   "metadata": {
    "collapsed": false,
    "pycharm": {
     "name": "#%%\n"
    }
   }
  },
  {
   "cell_type": "code",
   "source": [
    "def text_to_sequence(text, maxlen):\n",
    "    result = []\n",
    "    tokens = word_tokenize(text.lower())\n",
    "    tokens_filtered = [word for word in tokens if word.isalnum()]\n",
    "    for word in tokens_filtered:\n",
    "        if word in vocabulary:\n",
    "            result.append(vocabulary[word])\n",
    "\n",
    "    padding = [0] * (maxlen-len(result))\n",
    "    return result[-maxlen:] + padding"
   ],
   "metadata": {
    "id": "u6k1hgnuui5T",
    "executionInfo": {
     "status": "ok",
     "timestamp": 1662044688324,
     "user_tz": -180,
     "elapsed": 12,
     "user": {
      "displayName": "Алексей Кеменчичиди",
      "userId": "05473161446344228739"
     }
    },
    "pycharm": {
     "name": "#%%\n"
    }
   },
   "execution_count": 2,
   "outputs": []
  },
  {
   "cell_type": "code",
   "source": [
    "class Net(nn.Module):\n",
    "    def __init__(self, vocab_size=2000, embedding_dim=128, out_channel=128, num_classes=1):\n",
    "        super().__init__()\n",
    "        self.embedding = nn.Embedding(vocab_size, embedding_dim)\n",
    "        self.conv_1 = nn.Conv1d(embedding_dim, out_channel, kernel_size=2)\n",
    "        self.conv_2 = nn.Conv1d(embedding_dim, out_channel, kernel_size=3)\n",
    "        self.dro = nn.Dropout(0.25)\n",
    "        self.pool = nn.MaxPool1d(2)\n",
    "        self.relu = nn.ReLU()\n",
    "        self.linear_1 = nn.Linear(out_channel, out_channel // 2)\n",
    "        self.linear_2 = nn.Linear(out_channel // 2, num_classes)\n",
    "        \n",
    "    def forward(self, x):\n",
    "        output = self.embedding(x)\n",
    "        output = output.permute(0, 2, 1)\n",
    "        output = self.conv_1(output)\n",
    "        output = self.dro(output)\n",
    "        output = self.relu(output)\n",
    "        output = self.pool(output)\n",
    "\n",
    "        output = self.conv_2(output)\n",
    "        output = self.dro(output)\n",
    "        output = self.relu(output)\n",
    "        output = self.pool(output)\n",
    "        output = torch.max(output, axis=2).values\n",
    "        output = self.linear_1(output)\n",
    "        output = self.relu(output)\n",
    "        output = self.linear_2(output)\n",
    "        output = torch.sigmoid(output)\n",
    "        return output"
   ],
   "metadata": {
    "id": "ercahdUZui-n",
    "executionInfo": {
     "status": "ok",
     "timestamp": 1662044688325,
     "user_tz": -180,
     "elapsed": 12,
     "user": {
      "displayName": "Алексей Кеменчичиди",
      "userId": "05473161446344228739"
     }
    },
    "pycharm": {
     "name": "#%%\n"
    }
   },
   "execution_count": 132,
   "outputs": []
  },
  {
   "cell_type": "code",
   "source": [
    "class DataWrapper(Dataset):\n",
    "    def __init__(self, data, target, transform=None):\n",
    "        self.data = torch.from_numpy(data).long()\n",
    "        self.target = torch.from_numpy(target).long()\n",
    "        self.transform = transform\n",
    "        \n",
    "    def __getitem__(self, index):\n",
    "        x = self.data[index]\n",
    "        y = self.target[index]\n",
    "        \n",
    "        if self.transform:\n",
    "            x = self.transform(x)\n",
    "            \n",
    "        return x, y\n",
    "    \n",
    "    def __len__(self):\n",
    "        return len(self.data)"
   ],
   "metadata": {
    "id": "KQycht4hu7P8",
    "executionInfo": {
     "status": "ok",
     "timestamp": 1662044688326,
     "user_tz": -180,
     "elapsed": 13,
     "user": {
      "displayName": "Алексей Кеменчичиди",
      "userId": "05473161446344228739"
     }
    },
    "pycharm": {
     "name": "#%%\n"
    }
   },
   "execution_count": 4,
   "outputs": []
  },
  {
   "cell_type": "code",
   "source": [
    "TRAIN_FILEPATH = Path('./inputs/Twitter Sentiment Analysis/train.csv')\n",
    "\n",
    "df = pd.read_csv(TRAIN_FILEPATH)\n",
    "\n",
    "df_train, df_val = train_test_split(df, random_state=42, test_size=0.3)\n",
    "df_train.shape, df_val.shape"
   ],
   "metadata": {
    "id": "tcv81r7AsFsS",
    "executionInfo": {
     "status": "ok",
     "timestamp": 1662044688775,
     "user_tz": -180,
     "elapsed": 461,
     "user": {
      "displayName": "Алексей Кеменчичиди",
      "userId": "05473161446344228739"
     }
    },
    "colab": {
     "base_uri": "https://localhost:8080/"
    },
    "outputId": "ade17462-dfb3-4a73-ec39-5b614c71e16c",
    "pycharm": {
     "name": "#%%\n"
    }
   },
   "execution_count": 5,
   "outputs": [
    {
     "data": {
      "text/plain": "((22373, 3), (9589, 3))"
     },
     "execution_count": 5,
     "metadata": {},
     "output_type": "execute_result"
    }
   ]
  },
  {
   "cell_type": "code",
   "source": [
    "df_train.head()"
   ],
   "metadata": {
    "id": "j5e5wYiGar59",
    "executionInfo": {
     "status": "ok",
     "timestamp": 1662044688776,
     "user_tz": -180,
     "elapsed": 33,
     "user": {
      "displayName": "Алексей Кеменчичиди",
      "userId": "05473161446344228739"
     }
    },
    "colab": {
     "base_uri": "https://localhost:8080/",
     "height": 206
    },
    "outputId": "219aadae-cc79-4db8-f602-f82d8b685311",
    "pycharm": {
     "name": "#%%\n"
    }
   },
   "execution_count": 6,
   "outputs": [
    {
     "data": {
      "text/plain": "          id  label                                              tweet\n9635    9636      0  summer timeð\n #summeriscoming #swimming #pic...\n2447    2448      0  dese niggas will show dese otha bitches on fb,...\n16134  16135      0  \"when you are   you boost your immune system a...\n18393  18394      0  reading my manuscript and not wanting to stop....\n4420    4421      0                      baby says he hates me today  ",
      "text/html": "<div>\n<style scoped>\n    .dataframe tbody tr th:only-of-type {\n        vertical-align: middle;\n    }\n\n    .dataframe tbody tr th {\n        vertical-align: top;\n    }\n\n    .dataframe thead th {\n        text-align: right;\n    }\n</style>\n<table border=\"1\" class=\"dataframe\">\n  <thead>\n    <tr style=\"text-align: right;\">\n      <th></th>\n      <th>id</th>\n      <th>label</th>\n      <th>tweet</th>\n    </tr>\n  </thead>\n  <tbody>\n    <tr>\n      <th>9635</th>\n      <td>9636</td>\n      <td>0</td>\n      <td>summer timeð #summeriscoming #swimming #pic...</td>\n    </tr>\n    <tr>\n      <th>2447</th>\n      <td>2448</td>\n      <td>0</td>\n      <td>dese niggas will show dese otha bitches on fb,...</td>\n    </tr>\n    <tr>\n      <th>16134</th>\n      <td>16135</td>\n      <td>0</td>\n      <td>\"when you are   you boost your immune system a...</td>\n    </tr>\n    <tr>\n      <th>18393</th>\n      <td>18394</td>\n      <td>0</td>\n      <td>reading my manuscript and not wanting to stop....</td>\n    </tr>\n    <tr>\n      <th>4420</th>\n      <td>4421</td>\n      <td>0</td>\n      <td>baby says he hates me today</td>\n    </tr>\n  </tbody>\n</table>\n</div>"
     },
     "execution_count": 6,
     "metadata": {},
     "output_type": "execute_result"
    }
   ]
  },
  {
   "cell_type": "code",
   "source": [
    "df_train['label'].value_counts()"
   ],
   "metadata": {
    "colab": {
     "base_uri": "https://localhost:8080/"
    },
    "id": "sLsXq-sWzjhF",
    "executionInfo": {
     "status": "ok",
     "timestamp": 1662044688777,
     "user_tz": -180,
     "elapsed": 33,
     "user": {
      "displayName": "Алексей Кеменчичиди",
      "userId": "05473161446344228739"
     }
    },
    "outputId": "d726dea1-935e-4b05-9b9a-64db94863689",
    "pycharm": {
     "name": "#%%\n"
    }
   },
   "execution_count": 7,
   "outputs": [
    {
     "data": {
      "text/plain": "0    20815\n1     1558\nName: label, dtype: int64"
     },
     "execution_count": 7,
     "metadata": {},
     "output_type": "execute_result"
    }
   ]
  },
  {
   "cell_type": "code",
   "source": [
    "# tqdm.pandas()\n",
    "#\n",
    "# df_train['tweet'] = df_train['tweet'].progress_apply(preprocess_text)\n",
    "# df_val['tweet'] = df_val['tweet'].progress_apply(preprocess_text)"
   ],
   "metadata": {
    "id": "_4YD2-0WuUBr",
    "executionInfo": {
     "status": "error",
     "timestamp": 1662045030460,
     "user_tz": -180,
     "elapsed": 341710,
     "user": {
      "displayName": "Алексей Кеменчичиди",
      "userId": "05473161446344228739"
     }
    },
    "colab": {
     "base_uri": "https://localhost:8080/",
     "height": 469
    },
    "outputId": "0c4ff225-4ae2-4726-eeb4-f5f42343fd7a",
    "pycharm": {
     "name": "#%%\n"
    }
   },
   "execution_count": 11,
   "outputs": []
  },
  {
   "cell_type": "code",
   "execution_count": 12,
   "outputs": [
    {
     "data": {
      "text/plain": "VBox(children=(HBox(children=(IntProgress(value=0, description='0.00%', max=2797), Label(value='0 / 2797'))), …",
      "application/vnd.jupyter.widget-view+json": {
       "version_major": 2,
       "version_minor": 0,
       "model_id": "b388962401294b09aca7d586dbf39fa6"
      }
     },
     "metadata": {},
     "output_type": "display_data"
    },
    {
     "data": {
      "text/plain": "VBox(children=(HBox(children=(IntProgress(value=0, description='0.00%', max=1199), Label(value='0 / 1199'))), …",
      "application/vnd.jupyter.widget-view+json": {
       "version_major": 2,
       "version_minor": 0,
       "model_id": "b70f9652aef24b88a9863d8e7ff2cf4a"
      }
     },
     "metadata": {},
     "output_type": "display_data"
    },
    {
     "name": "stdout",
     "output_type": "stream",
     "text": [
      "Wall time: 25min 47s\n"
     ]
    }
   ],
   "source": [
    "%%time\n",
    "tqdm.pandas()\n",
    "\n",
    "df_train['tweet'] = df_train['tweet'].parallel_apply(preprocess_text)\n",
    "df_val['tweet'] = df_val['tweet'].parallel_apply(preprocess_text)"
   ],
   "metadata": {
    "collapsed": false,
    "pycharm": {
     "name": "#%%\n"
    }
   }
  },
  {
   "cell_type": "code",
   "source": [
    "train_corpus = \" \".join(df_train[\"tweet\"])\n",
    "train_corpus = train_corpus.lower()"
   ],
   "metadata": {
    "id": "8AXPtET9uUEt",
    "executionInfo": {
     "status": "aborted",
     "timestamp": 1662045030461,
     "user_tz": -180,
     "elapsed": 11,
     "user": {
      "displayName": "Алексей Кеменчичиди",
      "userId": "05473161446344228739"
     }
    },
    "pycharm": {
     "name": "#%%\n"
    }
   },
   "execution_count": 13,
   "outputs": []
  },
  {
   "cell_type": "markdown",
   "source": [],
   "metadata": {
    "collapsed": false,
    "pycharm": {
     "name": "#%% md\n"
    }
   }
  },
  {
   "cell_type": "code",
   "source": [
    "nltk.download(\"punkt\")\n",
    "\n",
    "tokens = word_tokenize(train_corpus)\n",
    "tokens[:5]"
   ],
   "metadata": {
    "id": "6nheZH_A-fEW",
    "executionInfo": {
     "status": "aborted",
     "timestamp": 1662045030463,
     "user_tz": -180,
     "elapsed": 13,
     "user": {
      "displayName": "Алексей Кеменчичиди",
      "userId": "05473161446344228739"
     }
    },
    "pycharm": {
     "name": "#%%\n"
    }
   },
   "execution_count": 88,
   "outputs": [
    {
     "name": "stderr",
     "output_type": "stream",
     "text": [
      "[nltk_data] Downloading package punkt to\n",
      "[nltk_data]     C:\\Users\\Alexidis\\AppData\\Roaming\\nltk_data...\n",
      "[nltk_data]   Package punkt is already up-to-date!\n"
     ]
    },
    {
     "data": {
      "text/plain": "['summer', 'timeð\\x9f\\x8c', 'summeriscoming', 'swimming', 'picoftheday']"
     },
     "execution_count": 88,
     "metadata": {},
     "output_type": "execute_result"
    }
   ]
  },
  {
   "cell_type": "code",
   "source": [
    "max_words = 4000\n",
    "max_len = 10\n",
    "num_classes = 1\n",
    "embedding_dim = 128\n",
    "out_channel = 128\n",
    "\n",
    "# Training\n",
    "epochs = 5\n",
    "batch_size = 512\n",
    "print_batch_n = 100"
   ],
   "metadata": {
    "id": "ln52sCuC-ryT",
    "executionInfo": {
     "status": "aborted",
     "timestamp": 1662045030779,
     "user_tz": -180,
     "elapsed": 7,
     "user": {
      "displayName": "Алексей Кеменчичиди",
      "userId": "05473161446344228739"
     }
    },
    "pycharm": {
     "name": "#%%\n"
    }
   },
   "execution_count": 133,
   "outputs": []
  },
  {
   "cell_type": "code",
   "source": [
    "# Отфильтруем данные и соберём в корпус N наиболее частых токенов\n",
    "tokens_filtered = [word for word in tokens if word.isalnum()]\n",
    "\n",
    "dist = FreqDist(tokens_filtered)\n",
    "tokens_filtered_top = [pair[0] for pair in dist.most_common(max_words-1)]  # вычитание 1 для padding\n",
    "len(tokens_filtered_top)"
   ],
   "metadata": {
    "id": "9kSRs9N1uUJ_",
    "executionInfo": {
     "status": "aborted",
     "timestamp": 1662045030779,
     "user_tz": -180,
     "elapsed": 8,
     "user": {
      "displayName": "Алексей Кеменчичиди",
      "userId": "05473161446344228739"
     }
    },
    "pycharm": {
     "name": "#%%\n"
    }
   },
   "execution_count": 134,
   "outputs": [
    {
     "data": {
      "text/plain": "3999"
     },
     "execution_count": 134,
     "metadata": {},
     "output_type": "execute_result"
    }
   ]
  },
  {
   "cell_type": "code",
   "source": [
    "vocabulary = {v: k for k, v in dict(enumerate(tokens_filtered_top, 1)).items()}"
   ],
   "metadata": {
    "id": "nI-G5o7suUPR",
    "executionInfo": {
     "status": "aborted",
     "timestamp": 1662045030780,
     "user_tz": -180,
     "elapsed": 8,
     "user": {
      "displayName": "Алексей Кеменчичиди",
      "userId": "05473161446344228739"
     }
    },
    "pycharm": {
     "name": "#%%\n"
    }
   },
   "execution_count": 135,
   "outputs": []
  },
  {
   "cell_type": "code",
   "source": [
    "x_train = np.asarray([text_to_sequence(text, max_len) for text in df_train[\"tweet\"]])\n",
    "x_val = np.asarray([text_to_sequence(text, max_len) for text in df_val[\"tweet\"]])"
   ],
   "metadata": {
    "id": "kpsHUzwKuUSA",
    "executionInfo": {
     "status": "aborted",
     "timestamp": 1662045030780,
     "user_tz": -180,
     "elapsed": 8,
     "user": {
      "displayName": "Алексей Кеменчичиди",
      "userId": "05473161446344228739"
     }
    },
    "pycharm": {
     "name": "#%%\n"
    }
   },
   "execution_count": 136,
   "outputs": []
  },
  {
   "cell_type": "code",
   "source": [
    "x_train.shape"
   ],
   "metadata": {
    "id": "mGhhNtmjuUUr",
    "executionInfo": {
     "status": "aborted",
     "timestamp": 1662045030781,
     "user_tz": -180,
     "elapsed": 8,
     "user": {
      "displayName": "Алексей Кеменчичиди",
      "userId": "05473161446344228739"
     }
    },
    "pycharm": {
     "name": "#%%\n"
    }
   },
   "execution_count": 137,
   "outputs": [
    {
     "data": {
      "text/plain": "(22373, 10)"
     },
     "execution_count": 137,
     "metadata": {},
     "output_type": "execute_result"
    }
   ]
  },
  {
   "cell_type": "code",
   "source": [
    "df_train['tweet'].iloc[0]"
   ],
   "metadata": {
    "id": "H8xh-zXXuosA",
    "executionInfo": {
     "status": "aborted",
     "timestamp": 1662045030781,
     "user_tz": -180,
     "elapsed": 8,
     "user": {
      "displayName": "Алексей Кеменчичиди",
      "userId": "05473161446344228739"
     }
    },
    "pycharm": {
     "name": "#%%\n"
    }
   },
   "execution_count": 138,
   "outputs": [
    {
     "data": {
      "text/plain": "'summer timeð\\x9f\\x8c summeriscoming swimming picoftheday tattoos issho pulsera fluyendo â\\x80¦'"
     },
     "execution_count": 138,
     "metadata": {},
     "output_type": "execute_result"
    }
   ]
  },
  {
   "cell_type": "code",
   "source": [
    "x_train[0]"
   ],
   "metadata": {
    "id": "WSlkW4Uxuou-",
    "executionInfo": {
     "status": "aborted",
     "timestamp": 1662045030782,
     "user_tz": -180,
     "elapsed": 9,
     "user": {
      "displayName": "Алексей Кеменчичиди",
      "userId": "05473161446344228739"
     }
    },
    "pycharm": {
     "name": "#%%\n"
    }
   },
   "execution_count": 139,
   "outputs": [
    {
     "data": {
      "text/plain": "array([  38, 1100,  573,    0,    0,    0,    0,    0,    0,    0])"
     },
     "execution_count": 139,
     "metadata": {},
     "output_type": "execute_result"
    }
   ]
  },
  {
   "cell_type": "code",
   "source": [
    "train_dataset = DataWrapper(x_train, df_train['label'].values)\n",
    "train_loader = DataLoader(train_dataset, batch_size=batch_size, shuffle=True)\n",
    "\n",
    "val_dataset = DataWrapper(x_val, df_val['label'].values)\n",
    "val_loader = DataLoader(val_dataset, batch_size=8, shuffle=True)"
   ],
   "metadata": {
    "id": "-xkgRZxRuox_",
    "executionInfo": {
     "status": "aborted",
     "timestamp": 1662045030782,
     "user_tz": -180,
     "elapsed": 9,
     "user": {
      "displayName": "Алексей Кеменчичиди",
      "userId": "05473161446344228739"
     }
    },
    "pycharm": {
     "name": "#%%\n"
    }
   },
   "execution_count": 140,
   "outputs": []
  },
  {
   "cell_type": "code",
   "source": [
    "for x, l in train_loader:\n",
    "    print(x.shape)\n",
    "    print(l.shape)\n",
    "    print(l[0])\n",
    "    break"
   ],
   "metadata": {
    "id": "lKwKbHfLuo0_",
    "executionInfo": {
     "status": "aborted",
     "timestamp": 1662045030783,
     "user_tz": -180,
     "elapsed": 10,
     "user": {
      "displayName": "Алексей Кеменчичиди",
      "userId": "05473161446344228739"
     }
    },
    "pycharm": {
     "name": "#%%\n"
    }
   },
   "execution_count": 141,
   "outputs": [
    {
     "name": "stdout",
     "output_type": "stream",
     "text": [
      "torch.Size([512, 10])\n",
      "torch.Size([512])\n",
      "tensor(0)\n"
     ]
    }
   ]
  },
  {
   "cell_type": "code",
   "source": [
    "model = Net(vocab_size=max_words, embedding_dim=embedding_dim, out_channel=out_channel, num_classes=num_classes)"
   ],
   "metadata": {
    "id": "ohtmYB-4uo4H",
    "executionInfo": {
     "status": "aborted",
     "timestamp": 1662045030783,
     "user_tz": -180,
     "elapsed": 10,
     "user": {
      "displayName": "Алексей Кеменчичиди",
      "userId": "05473161446344228739"
     }
    },
    "pycharm": {
     "name": "#%%\n"
    }
   },
   "execution_count": 142,
   "outputs": []
  },
  {
   "cell_type": "code",
   "source": [
    "print(model)\n",
    "print(\"Parameters:\", sum([param.nelement() for param in model.parameters()]))"
   ],
   "metadata": {
    "id": "SK8sx2RBuo7A",
    "executionInfo": {
     "status": "aborted",
     "timestamp": 1662045030784,
     "user_tz": -180,
     "elapsed": 10,
     "user": {
      "displayName": "Алексей Кеменчичиди",
      "userId": "05473161446344228739"
     }
    },
    "pycharm": {
     "name": "#%%\n"
    }
   },
   "execution_count": 143,
   "outputs": [
    {
     "name": "stdout",
     "output_type": "stream",
     "text": [
      "Net(\n",
      "  (embedding): Embedding(4000, 128)\n",
      "  (conv_1): Conv1d(128, 128, kernel_size=(2,), stride=(1,))\n",
      "  (conv_2): Conv1d(128, 128, kernel_size=(3,), stride=(1,))\n",
      "  (dro): Dropout(p=0.25, inplace=False)\n",
      "  (pool): MaxPool1d(kernel_size=2, stride=2, padding=0, dilation=1, ceil_mode=False)\n",
      "  (relu): ReLU()\n",
      "  (linear_1): Linear(in_features=128, out_features=64, bias=True)\n",
      "  (linear_2): Linear(in_features=64, out_features=1, bias=True)\n",
      ")\n",
      "Parameters: 602497\n"
     ]
    }
   ]
  },
  {
   "cell_type": "code",
   "source": [
    "optimizer = torch.optim.Adam(model.parameters(), lr=0.01)\n",
    "criterion = nn.BCELoss()"
   ],
   "metadata": {
    "id": "1ZGUYsdDuo9q",
    "executionInfo": {
     "status": "aborted",
     "timestamp": 1662045030784,
     "user_tz": -180,
     "elapsed": 10,
     "user": {
      "displayName": "Алексей Кеменчичиди",
      "userId": "05473161446344228739"
     }
    },
    "pycharm": {
     "name": "#%%\n"
    }
   },
   "execution_count": 144,
   "outputs": []
  },
  {
   "cell_type": "code",
   "source": [
    "model = model.to(device)\n",
    "model.train()\n",
    "th = 0.5\n",
    "\n",
    "train_loss_history = []\n",
    "test_loss_history = []\n",
    "\n",
    "\n",
    "for epoch in range(epochs):  \n",
    "    running_items, running_right = 0.0, 0.0\n",
    "    for i, data in enumerate(train_loader, 0):\n",
    "        inputs, labels = data[0].to(device), data[1].to(device)\n",
    "        \n",
    "        # обнуляем градиент\n",
    "        optimizer.zero_grad()\n",
    "        outputs = model(inputs)\n",
    "        \n",
    "        loss = criterion(outputs, labels.float().view(-1, 1))\n",
    "        loss.backward()\n",
    "        optimizer.step()\n",
    "\n",
    "        # подсчет ошибки на обучении\n",
    "        loss = loss.item()\n",
    "        running_items += len(labels)\n",
    "        # подсчет метрики на обучении\n",
    "        pred_labels = torch.squeeze((outputs > th).int())\n",
    "        running_right += (labels == pred_labels).sum()\n",
    "        \n",
    "    # выводим статистику о процессе обучения\n",
    "    model.eval()\n",
    "    \n",
    "    print(f'Epoch [{epoch + 1}/{epochs}]. ' \\\n",
    "            f'Step [{i + 1}/{len(train_loader)}]. ' \\\n",
    "            f'Loss: {loss:.3f}. ' \\\n",
    "            f'Acc: {running_right / running_items:.3f}', end='. ')\n",
    "    running_loss, running_items, running_right = 0.0, 0.0, 0.0\n",
    "    train_loss_history.append(loss)\n",
    "\n",
    "        # выводим статистику на тестовых данных\n",
    "    test_running_right, test_running_total, test_loss = 0.0, 0.0, 0.0\n",
    "    for j, data in enumerate(val_loader):\n",
    "        test_labels = data[1].to(device)\n",
    "        test_outputs = model(data[0].to(device))\n",
    "        \n",
    "        # подсчет ошибки на тесте\n",
    "        test_loss = criterion(test_outputs, test_labels.float().view(-1, 1))\n",
    "        # подсчет метрики на тесте\n",
    "        test_running_total += len(data[1])\n",
    "        pred_test_labels = torch.squeeze((test_outputs > th).int())\n",
    "        test_running_right += (test_labels == pred_test_labels).sum()\n",
    "    \n",
    "    test_loss_history.append(test_loss.item())\n",
    "    print(f'Test loss: {test_loss:.3f}. Test acc: {test_running_right / test_running_total:.3f}')\n",
    "    \n",
    "    model.train()\n",
    "        \n",
    "print('Training is finished!')"
   ],
   "metadata": {
    "id": "hLaUJtgq05vS",
    "executionInfo": {
     "status": "aborted",
     "timestamp": 1662045030785,
     "user_tz": -180,
     "elapsed": 11,
     "user": {
      "displayName": "Алексей Кеменчичиди",
      "userId": "05473161446344228739"
     }
    },
    "pycharm": {
     "name": "#%%\n"
    }
   },
   "execution_count": 145,
   "outputs": [
    {
     "name": "stdout",
     "output_type": "stream",
     "text": [
      "Epoch [1/5]. Step [44/44]. Loss: 0.179. Acc: 0.925. Test loss: 0.028. Test acc: 0.929\n",
      "Epoch [2/5]. Step [44/44]. Loss: 0.109. Acc: 0.941. Test loss: 0.041. Test acc: 0.943\n",
      "Epoch [3/5]. Step [44/44]. Loss: 0.099. Acc: 0.965. Test loss: 0.020. Test acc: 0.943\n",
      "Epoch [4/5]. Step [44/44]. Loss: 0.083. Acc: 0.973. Test loss: 0.005. Test acc: 0.945\n",
      "Epoch [5/5]. Step [44/44]. Loss: 0.043. Acc: 0.982. Test loss: 0.001. Test acc: 0.939\n",
      "Training is finished!\n"
     ]
    }
   ]
  },
  {
   "cell_type": "code",
   "source": [
    "plt.title('Loss history')\n",
    "plt.grid(True)\n",
    "plt.ylabel('Loss')\n",
    "plt.xlabel('Epoch')\n",
    "plt.plot(train_loss_history, label='train')\n",
    "plt.plot(test_loss_history, label='test')\n",
    "plt.legend();"
   ],
   "metadata": {
    "id": "ILOPxkL-05yV",
    "executionInfo": {
     "status": "aborted",
     "timestamp": 1662045030785,
     "user_tz": -180,
     "elapsed": 11,
     "user": {
      "displayName": "Алексей Кеменчичиди",
      "userId": "05473161446344228739"
     }
    },
    "pycharm": {
     "name": "#%%\n"
    }
   },
   "execution_count": 146,
   "outputs": [
    {
     "data": {
      "text/plain": "<Figure size 432x288 with 1 Axes>",
      "image/png": "[encoded data removed]"
     },
     "metadata": {
      "needs_background": "light"
     },
     "output_type": "display_data"
    }
   ]
  },
  {
   "cell_type": "markdown",
   "source": [
    "Попробуйте обучить нейронную сеть с применением одномерных сверток для предсказания сентимента сообщений с твитера на примере https://www.kaggle.com/datasets/arkhoshghalb/twitter-sentiment-analysis-hatred-speech\n",
    "\n",
    "Опишите, какой результат вы получили?\n",
    "Что помогло вам улучшить ее точность?"
   ],
   "metadata": {
    "collapsed": false,
    "pycharm": {
     "name": "#%% md\n"
    }
   }
  },
  {
   "cell_type": "markdown",
   "source": [
    "## Вывод\n",
    "Добавил слои с dropout что бы снизить переобучение увеличил количество слов в выборке уменьшил количество слов выбираемых из твита для обучения"
   ],
   "metadata": {
    "collapsed": false,
    "pycharm": {
     "name": "#%% md\n"
    }
   }
  }
 ]
}